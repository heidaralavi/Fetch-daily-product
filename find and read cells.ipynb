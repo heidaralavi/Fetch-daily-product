{
  "cells": [
    {
      "cell_type": "markdown",
      "metadata": {
        "id": "view-in-github",
        "colab_type": "text"
      },
      "source": [
        "<a href=\"https://colab.research.google.com/github/heidaralavi/Fetch-daily-product/blob/main/find%20and%20read%20cells.ipynb\" target=\"_parent\"><img src=\"https://colab.research.google.com/assets/colab-badge.svg\" alt=\"Open In Colab\"/></a>"
      ]
    },
    {
      "cell_type": "code",
      "source": [
        "!git clone https://github.com/heidaralavi/Fetch-daily-product.git"
      ],
      "metadata": {
        "id": "NpumVV_hCtrL",
        "outputId": "f260f8e6-a7da-4bb5-b080-cec73b5cb5ee",
        "colab": {
          "base_uri": "https://localhost:8080/"
        }
      },
      "id": "NpumVV_hCtrL",
      "execution_count": 10,
      "outputs": [
        {
          "output_type": "stream",
          "name": "stdout",
          "text": [
            "Cloning into 'Fetch-daily-product'...\n",
            "remote: Enumerating objects: 55, done.\u001b[K\n",
            "remote: Counting objects:   1% (1/55)\u001b[K\rremote: Counting objects:   3% (2/55)\u001b[K\rremote: Counting objects:   5% (3/55)\u001b[K\rremote: Counting objects:   7% (4/55)\u001b[K\rremote: Counting objects:   9% (5/55)\u001b[K\rremote: Counting objects:  10% (6/55)\u001b[K\rremote: Counting objects:  12% (7/55)\u001b[K\rremote: Counting objects:  14% (8/55)\u001b[K\rremote: Counting objects:  16% (9/55)\u001b[K\rremote: Counting objects:  18% (10/55)\u001b[K\rremote: Counting objects:  20% (11/55)\u001b[K\rremote: Counting objects:  21% (12/55)\u001b[K\rremote: Counting objects:  23% (13/55)\u001b[K\rremote: Counting objects:  25% (14/55)\u001b[K\rremote: Counting objects:  27% (15/55)\u001b[K\rremote: Counting objects:  29% (16/55)\u001b[K\rremote: Counting objects:  30% (17/55)\u001b[K\rremote: Counting objects:  32% (18/55)\u001b[K\rremote: Counting objects:  34% (19/55)\u001b[K\rremote: Counting objects:  36% (20/55)\u001b[K\rremote: Counting objects:  38% (21/55)\u001b[K\rremote: Counting objects:  40% (22/55)\u001b[K\rremote: Counting objects:  41% (23/55)\u001b[K\rremote: Counting objects:  43% (24/55)\u001b[K\rremote: Counting objects:  45% (25/55)\u001b[K\rremote: Counting objects:  47% (26/55)\u001b[K\rremote: Counting objects:  49% (27/55)\u001b[K\rremote: Counting objects:  50% (28/55)\u001b[K\rremote: Counting objects:  52% (29/55)\u001b[K\rremote: Counting objects:  54% (30/55)\u001b[K\rremote: Counting objects:  56% (31/55)\u001b[K\rremote: Counting objects:  58% (32/55)\u001b[K\rremote: Counting objects:  60% (33/55)\u001b[K\rremote: Counting objects:  61% (34/55)\u001b[K\rremote: Counting objects:  63% (35/55)\u001b[K\rremote: Counting objects:  65% (36/55)\u001b[K\rremote: Counting objects:  67% (37/55)\u001b[K\rremote: Counting objects:  69% (38/55)\u001b[K\rremote: Counting objects:  70% (39/55)\u001b[K\rremote: Counting objects:  72% (40/55)\u001b[K\rremote: Counting objects:  74% (41/55)\u001b[K\rremote: Counting objects:  76% (42/55)\u001b[K\rremote: Counting objects:  78% (43/55)\u001b[K\rremote: Counting objects:  80% (44/55)\u001b[K\rremote: Counting objects:  81% (45/55)\u001b[K\rremote: Counting objects:  83% (46/55)\u001b[K\rremote: Counting objects:  85% (47/55)\u001b[K\rremote: Counting objects:  87% (48/55)\u001b[K\rremote: Counting objects:  89% (49/55)\u001b[K\rremote: Counting objects:  90% (50/55)\u001b[K\rremote: Counting objects:  92% (51/55)\u001b[K\rremote: Counting objects:  94% (52/55)\u001b[K\rremote: Counting objects:  96% (53/55)\u001b[K\rremote: Counting objects:  98% (54/55)\u001b[K\rremote: Counting objects: 100% (55/55)\u001b[K\rremote: Counting objects: 100% (55/55), done.\u001b[K\n",
            "remote: Compressing objects: 100% (50/50), done.\u001b[K\n",
            "remote: Total 55 (delta 3), reused 55 (delta 3), pack-reused 0\u001b[K\n",
            "Unpacking objects: 100% (55/55), done.\n"
          ]
        }
      ]
    },
    {
      "cell_type": "code",
      "execution_count": 11,
      "id": "93a746fe",
      "metadata": {
        "id": "93a746fe"
      },
      "outputs": [],
      "source": [
        "import pandas as pd"
      ]
    },
    {
      "cell_type": "code",
      "execution_count": 12,
      "id": "f1e721de",
      "metadata": {
        "id": "f1e721de"
      },
      "outputs": [],
      "source": [
        "#reading sheet names form exel files first method\n",
        "#xl = pd.ExcelFile('./1400/1-Farvardin.xlsx')\n",
        "xl = pd.ExcelFile('/content/Fetch-daily-product/1400/1-Farvardin.xlsx')"
      ]
    },
    {
      "cell_type": "code",
      "execution_count": 13,
      "id": "b657ac5c",
      "metadata": {
        "id": "b657ac5c",
        "outputId": "cd242e4d-6d19-4a3f-e167-266b2a400800",
        "colab": {
          "base_uri": "https://localhost:8080/"
        }
      },
      "outputs": [
        {
          "output_type": "execute_result",
          "data": {
            "text/plain": [
              "['1',\n",
              " '2',\n",
              " '3',\n",
              " '4',\n",
              " '5',\n",
              " '6',\n",
              " '7',\n",
              " '8',\n",
              " '9',\n",
              " '10',\n",
              " '11',\n",
              " '12',\n",
              " '13',\n",
              " '14',\n",
              " '15',\n",
              " '16',\n",
              " '17',\n",
              " '18',\n",
              " '19',\n",
              " '20',\n",
              " '21',\n",
              " '22',\n",
              " '23',\n",
              " '24',\n",
              " '25',\n",
              " '26',\n",
              " '27',\n",
              " '28',\n",
              " '29',\n",
              " '30',\n",
              " '31']"
            ]
          },
          "metadata": {},
          "execution_count": 13
        }
      ],
      "source": [
        "xl.sheet_names"
      ]
    },
    {
      "cell_type": "code",
      "execution_count": 14,
      "id": "bc12a5d2",
      "metadata": {
        "id": "bc12a5d2"
      },
      "outputs": [],
      "source": [
        "df=xl.parse(1)  # read a specific sheet to DataFrame"
      ]
    },
    {
      "cell_type": "code",
      "execution_count": 15,
      "id": "f2d3cb9f",
      "metadata": {
        "id": "f2d3cb9f",
        "outputId": "781e79be-8f5d-4a9b-922d-69d5edd226b7",
        "colab": {
          "base_uri": "https://localhost:8080/",
          "height": 641
        }
      },
      "outputs": [
        {
          "output_type": "execute_result",
          "data": {
            "text/html": [
              "\n",
              "  <div id=\"df-b5a1a1b9-2588-4161-9998-e3cbfa53b56f\">\n",
              "    <div class=\"colab-df-container\">\n",
              "      <div>\n",
              "<style scoped>\n",
              "    .dataframe tbody tr th:only-of-type {\n",
              "        vertical-align: middle;\n",
              "    }\n",
              "\n",
              "    .dataframe tbody tr th {\n",
              "        vertical-align: top;\n",
              "    }\n",
              "\n",
              "    .dataframe thead th {\n",
              "        text-align: right;\n",
              "    }\n",
              "</style>\n",
              "<table border=\"1\" class=\"dataframe\">\n",
              "  <thead>\n",
              "    <tr style=\"text-align: right;\">\n",
              "      <th></th>\n",
              "      <th>واحد برنامه ریزی تولید\\nگزارش روزانه تولید</th>\n",
              "      <th>Unnamed: 1</th>\n",
              "      <th>Unnamed: 2</th>\n",
              "      <th>Unnamed: 3</th>\n",
              "      <th>Unnamed: 4</th>\n",
              "      <th>Unnamed: 5</th>\n",
              "      <th>Unnamed: 6</th>\n",
              "      <th>Unnamed: 7</th>\n",
              "      <th>Unnamed: 8</th>\n",
              "      <th>Unnamed: 9</th>\n",
              "    </tr>\n",
              "  </thead>\n",
              "  <tbody>\n",
              "    <tr>\n",
              "      <th>0</th>\n",
              "      <td>شماره گزارش :2</td>\n",
              "      <td>تاریخ گزارش:</td>\n",
              "      <td>NaN</td>\n",
              "      <td>1400/01/02</td>\n",
              "      <td>NaN</td>\n",
              "      <td>2021-03-22 00:00:00</td>\n",
              "      <td>NaN</td>\n",
              "      <td>NaN</td>\n",
              "      <td>NaN</td>\n",
              "      <td>NaN</td>\n",
              "    </tr>\n",
              "    <tr>\n",
              "      <th>1</th>\n",
              "      <td>NaN</td>\n",
              "      <td>NaN</td>\n",
              "      <td>NaN</td>\n",
              "      <td>NaN</td>\n",
              "      <td>NaN</td>\n",
              "      <td>NaN</td>\n",
              "      <td>NaN</td>\n",
              "      <td>NaN</td>\n",
              "      <td>NaN</td>\n",
              "      <td>NaN</td>\n",
              "    </tr>\n",
              "    <tr>\n",
              "      <th>2</th>\n",
              "      <td>شرح</td>\n",
              "      <td>واحد</td>\n",
              "      <td>صبح</td>\n",
              "      <td>بعدازظهر</td>\n",
              "      <td>شب</td>\n",
              "      <td>روز</td>\n",
              "      <td>از ابتدای ماه</td>\n",
              "      <td>NaN</td>\n",
              "      <td>NaN</td>\n",
              "      <td>NaN</td>\n",
              "    </tr>\n",
              "    <tr>\n",
              "      <th>3</th>\n",
              "      <td>1. میزان تولید</td>\n",
              "      <td>NaN</td>\n",
              "      <td>NaN</td>\n",
              "      <td>NaN</td>\n",
              "      <td>NaN</td>\n",
              "      <td>NaN</td>\n",
              "      <td>NaN</td>\n",
              "      <td>NaN</td>\n",
              "      <td>NaN</td>\n",
              "      <td>NaN</td>\n",
              "    </tr>\n",
              "    <tr>\n",
              "      <th>4</th>\n",
              "      <td>میزان تولید بر اساس برنامه</td>\n",
              "      <td>تن</td>\n",
              "      <td>3866.666667</td>\n",
              "      <td>3866.666667</td>\n",
              "      <td>3866.666667</td>\n",
              "      <td>11600</td>\n",
              "      <td>23200</td>\n",
              "      <td>NaN</td>\n",
              "      <td>NaN</td>\n",
              "      <td>NaN</td>\n",
              "    </tr>\n",
              "    <tr>\n",
              "      <th>...</th>\n",
              "      <td>...</td>\n",
              "      <td>...</td>\n",
              "      <td>...</td>\n",
              "      <td>...</td>\n",
              "      <td>...</td>\n",
              "      <td>...</td>\n",
              "      <td>...</td>\n",
              "      <td>...</td>\n",
              "      <td>...</td>\n",
              "      <td>...</td>\n",
              "    </tr>\n",
              "    <tr>\n",
              "      <th>201</th>\n",
              "      <td>15. نمودار راندمان ساعتي بالينگ و سخت سازي</td>\n",
              "      <td>NaN</td>\n",
              "      <td>NaN</td>\n",
              "      <td>NaN</td>\n",
              "      <td>NaN</td>\n",
              "      <td>NaN</td>\n",
              "      <td>NaN</td>\n",
              "      <td>NaN</td>\n",
              "      <td>NaN</td>\n",
              "      <td>NaN</td>\n",
              "    </tr>\n",
              "    <tr>\n",
              "      <th>202</th>\n",
              "      <td>NaN</td>\n",
              "      <td>NaN</td>\n",
              "      <td>NaN</td>\n",
              "      <td>NaN</td>\n",
              "      <td>NaN</td>\n",
              "      <td>NaN</td>\n",
              "      <td>NaN</td>\n",
              "      <td>NaN</td>\n",
              "      <td>NaN</td>\n",
              "      <td>NaN</td>\n",
              "    </tr>\n",
              "    <tr>\n",
              "      <th>203</th>\n",
              "      <td>16. توضيحات</td>\n",
              "      <td>NaN</td>\n",
              "      <td>NaN</td>\n",
              "      <td>NaN</td>\n",
              "      <td>NaN</td>\n",
              "      <td>NaN</td>\n",
              "      <td>NaN</td>\n",
              "      <td>NaN</td>\n",
              "      <td>NaN</td>\n",
              "      <td>NaN</td>\n",
              "    </tr>\n",
              "    <tr>\n",
              "      <th>204</th>\n",
              "      <td>1 - از ساعت 12:18 تا 12:20 دیسکهای 1و2و3 بدلیل...</td>\n",
              "      <td>NaN</td>\n",
              "      <td>NaN</td>\n",
              "      <td>NaN</td>\n",
              "      <td>NaN</td>\n",
              "      <td>NaN</td>\n",
              "      <td>NaN</td>\n",
              "      <td>NaN</td>\n",
              "      <td>NaN</td>\n",
              "      <td>NaN</td>\n",
              "    </tr>\n",
              "    <tr>\n",
              "      <th>205</th>\n",
              "      <td>2 - از ساعت 20:31 تا قبل از شروع توقف تولید (2...</td>\n",
              "      <td>NaN</td>\n",
              "      <td>NaN</td>\n",
              "      <td>NaN</td>\n",
              "      <td>NaN</td>\n",
              "      <td>NaN</td>\n",
              "      <td>NaN</td>\n",
              "      <td>NaN</td>\n",
              "      <td>NaN</td>\n",
              "      <td>NaN</td>\n",
              "    </tr>\n",
              "  </tbody>\n",
              "</table>\n",
              "<p>206 rows × 10 columns</p>\n",
              "</div>\n",
              "      <button class=\"colab-df-convert\" onclick=\"convertToInteractive('df-b5a1a1b9-2588-4161-9998-e3cbfa53b56f')\"\n",
              "              title=\"Convert this dataframe to an interactive table.\"\n",
              "              style=\"display:none;\">\n",
              "        \n",
              "  <svg xmlns=\"http://www.w3.org/2000/svg\" height=\"24px\"viewBox=\"0 0 24 24\"\n",
              "       width=\"24px\">\n",
              "    <path d=\"M0 0h24v24H0V0z\" fill=\"none\"/>\n",
              "    <path d=\"M18.56 5.44l.94 2.06.94-2.06 2.06-.94-2.06-.94-.94-2.06-.94 2.06-2.06.94zm-11 1L8.5 8.5l.94-2.06 2.06-.94-2.06-.94L8.5 2.5l-.94 2.06-2.06.94zm10 10l.94 2.06.94-2.06 2.06-.94-2.06-.94-.94-2.06-.94 2.06-2.06.94z\"/><path d=\"M17.41 7.96l-1.37-1.37c-.4-.4-.92-.59-1.43-.59-.52 0-1.04.2-1.43.59L10.3 9.45l-7.72 7.72c-.78.78-.78 2.05 0 2.83L4 21.41c.39.39.9.59 1.41.59.51 0 1.02-.2 1.41-.59l7.78-7.78 2.81-2.81c.8-.78.8-2.07 0-2.86zM5.41 20L4 18.59l7.72-7.72 1.47 1.35L5.41 20z\"/>\n",
              "  </svg>\n",
              "      </button>\n",
              "      \n",
              "  <style>\n",
              "    .colab-df-container {\n",
              "      display:flex;\n",
              "      flex-wrap:wrap;\n",
              "      gap: 12px;\n",
              "    }\n",
              "\n",
              "    .colab-df-convert {\n",
              "      background-color: #E8F0FE;\n",
              "      border: none;\n",
              "      border-radius: 50%;\n",
              "      cursor: pointer;\n",
              "      display: none;\n",
              "      fill: #1967D2;\n",
              "      height: 32px;\n",
              "      padding: 0 0 0 0;\n",
              "      width: 32px;\n",
              "    }\n",
              "\n",
              "    .colab-df-convert:hover {\n",
              "      background-color: #E2EBFA;\n",
              "      box-shadow: 0px 1px 2px rgba(60, 64, 67, 0.3), 0px 1px 3px 1px rgba(60, 64, 67, 0.15);\n",
              "      fill: #174EA6;\n",
              "    }\n",
              "\n",
              "    [theme=dark] .colab-df-convert {\n",
              "      background-color: #3B4455;\n",
              "      fill: #D2E3FC;\n",
              "    }\n",
              "\n",
              "    [theme=dark] .colab-df-convert:hover {\n",
              "      background-color: #434B5C;\n",
              "      box-shadow: 0px 1px 3px 1px rgba(0, 0, 0, 0.15);\n",
              "      filter: drop-shadow(0px 1px 2px rgba(0, 0, 0, 0.3));\n",
              "      fill: #FFFFFF;\n",
              "    }\n",
              "  </style>\n",
              "\n",
              "      <script>\n",
              "        const buttonEl =\n",
              "          document.querySelector('#df-b5a1a1b9-2588-4161-9998-e3cbfa53b56f button.colab-df-convert');\n",
              "        buttonEl.style.display =\n",
              "          google.colab.kernel.accessAllowed ? 'block' : 'none';\n",
              "\n",
              "        async function convertToInteractive(key) {\n",
              "          const element = document.querySelector('#df-b5a1a1b9-2588-4161-9998-e3cbfa53b56f');\n",
              "          const dataTable =\n",
              "            await google.colab.kernel.invokeFunction('convertToInteractive',\n",
              "                                                     [key], {});\n",
              "          if (!dataTable) return;\n",
              "\n",
              "          const docLinkHtml = 'Like what you see? Visit the ' +\n",
              "            '<a target=\"_blank\" href=https://colab.research.google.com/notebooks/data_table.ipynb>data table notebook</a>'\n",
              "            + ' to learn more about interactive tables.';\n",
              "          element.innerHTML = '';\n",
              "          dataTable['output_type'] = 'display_data';\n",
              "          await google.colab.output.renderOutput(dataTable, element);\n",
              "          const docLink = document.createElement('div');\n",
              "          docLink.innerHTML = docLinkHtml;\n",
              "          element.appendChild(docLink);\n",
              "        }\n",
              "      </script>\n",
              "    </div>\n",
              "  </div>\n",
              "  "
            ],
            "text/plain": [
              "            واحد برنامه ریزی تولید\\nگزارش روزانه تولید    Unnamed: 1  \\\n",
              "0                                       شماره گزارش :2  تاریخ گزارش:   \n",
              "1                                                  NaN           NaN   \n",
              "2                                                  شرح          واحد   \n",
              "3                                       1. میزان تولید           NaN   \n",
              "4                           میزان تولید بر اساس برنامه            تن   \n",
              "..                                                 ...           ...   \n",
              "201         15. نمودار راندمان ساعتي بالينگ و سخت سازي           NaN   \n",
              "202                                                NaN           NaN   \n",
              "203                                        16. توضيحات           NaN   \n",
              "204  1 - از ساعت 12:18 تا 12:20 دیسکهای 1و2و3 بدلیل...           NaN   \n",
              "205  2 - از ساعت 20:31 تا قبل از شروع توقف تولید (2...           NaN   \n",
              "\n",
              "      Unnamed: 2   Unnamed: 3   Unnamed: 4           Unnamed: 5  \\\n",
              "0            NaN   1400/01/02          NaN  2021-03-22 00:00:00   \n",
              "1            NaN          NaN          NaN                  NaN   \n",
              "2            صبح     بعدازظهر           شب                  روز   \n",
              "3            NaN          NaN          NaN                  NaN   \n",
              "4    3866.666667  3866.666667  3866.666667                11600   \n",
              "..           ...          ...          ...                  ...   \n",
              "201          NaN          NaN          NaN                  NaN   \n",
              "202          NaN          NaN          NaN                  NaN   \n",
              "203          NaN          NaN          NaN                  NaN   \n",
              "204          NaN          NaN          NaN                  NaN   \n",
              "205          NaN          NaN          NaN                  NaN   \n",
              "\n",
              "        Unnamed: 6 Unnamed: 7 Unnamed: 8 Unnamed: 9  \n",
              "0              NaN        NaN        NaN        NaN  \n",
              "1              NaN        NaN        NaN        NaN  \n",
              "2    از ابتدای ماه        NaN        NaN        NaN  \n",
              "3              NaN        NaN        NaN        NaN  \n",
              "4            23200        NaN        NaN        NaN  \n",
              "..             ...        ...        ...        ...  \n",
              "201            NaN        NaN        NaN        NaN  \n",
              "202            NaN        NaN        NaN        NaN  \n",
              "203            NaN        NaN        NaN        NaN  \n",
              "204            NaN        NaN        NaN        NaN  \n",
              "205            NaN        NaN        NaN        NaN  \n",
              "\n",
              "[206 rows x 10 columns]"
            ]
          },
          "metadata": {},
          "execution_count": 15
        }
      ],
      "source": [
        "df"
      ]
    },
    {
      "cell_type": "code",
      "execution_count": 16,
      "id": "4e624fb5",
      "metadata": {
        "id": "4e624fb5"
      },
      "outputs": [],
      "source": [
        "#reading sheet names form exel files second method\n",
        "#df = pd.read_excel('./1400/1-Farvardin.xlsx', None)\n",
        "df = pd.read_excel('/content/Fetch-daily-product/1400/1-Farvardin.xlsx', None)"
      ]
    },
    {
      "cell_type": "code",
      "execution_count": 17,
      "id": "bba5f2b1",
      "metadata": {
        "id": "bba5f2b1",
        "outputId": "7962f671-2b2d-4621-e236-62f3f4e3ef29",
        "colab": {
          "base_uri": "https://localhost:8080/"
        }
      },
      "outputs": [
        {
          "output_type": "execute_result",
          "data": {
            "text/plain": [
              "dict_keys(['1', '2', '3', '4', '5', '6', '7', '8', '9', '10', '11', '12', '13', '14', '15', '16', '17', '18', '19', '20', '21', '22', '23', '24', '25', '26', '27', '28', '29', '30', '31'])"
            ]
          },
          "metadata": {},
          "execution_count": 17
        }
      ],
      "source": [
        "df.keys()"
      ]
    },
    {
      "cell_type": "code",
      "execution_count": 19,
      "id": "cf070bf8",
      "metadata": {
        "id": "cf070bf8"
      },
      "outputs": [],
      "source": [
        "#reading Specific cell \n",
        "data = pd.read_excel('/content/Fetch-daily-product/1400/1-Farvardin.xlsx', sheet_name='1', usecols = \"F\",skiprows=6,nrows=1, header = None)"
      ]
    },
    {
      "cell_type": "code",
      "execution_count": 20,
      "id": "bcc1e9ef",
      "metadata": {
        "id": "bcc1e9ef",
        "outputId": "620d078d-3835-4fe2-97aa-4d5421c96aca",
        "colab": {
          "base_uri": "https://localhost:8080/",
          "height": 81
        }
      },
      "outputs": [
        {
          "output_type": "execute_result",
          "data": {
            "text/html": [
              "\n",
              "  <div id=\"df-69520312-2900-40cd-bf0e-f2165f32db43\">\n",
              "    <div class=\"colab-df-container\">\n",
              "      <div>\n",
              "<style scoped>\n",
              "    .dataframe tbody tr th:only-of-type {\n",
              "        vertical-align: middle;\n",
              "    }\n",
              "\n",
              "    .dataframe tbody tr th {\n",
              "        vertical-align: top;\n",
              "    }\n",
              "\n",
              "    .dataframe thead th {\n",
              "        text-align: right;\n",
              "    }\n",
              "</style>\n",
              "<table border=\"1\" class=\"dataframe\">\n",
              "  <thead>\n",
              "    <tr style=\"text-align: right;\">\n",
              "      <th></th>\n",
              "      <th>5</th>\n",
              "    </tr>\n",
              "  </thead>\n",
              "  <tbody>\n",
              "    <tr>\n",
              "      <th>0</th>\n",
              "      <td>9621</td>\n",
              "    </tr>\n",
              "  </tbody>\n",
              "</table>\n",
              "</div>\n",
              "      <button class=\"colab-df-convert\" onclick=\"convertToInteractive('df-69520312-2900-40cd-bf0e-f2165f32db43')\"\n",
              "              title=\"Convert this dataframe to an interactive table.\"\n",
              "              style=\"display:none;\">\n",
              "        \n",
              "  <svg xmlns=\"http://www.w3.org/2000/svg\" height=\"24px\"viewBox=\"0 0 24 24\"\n",
              "       width=\"24px\">\n",
              "    <path d=\"M0 0h24v24H0V0z\" fill=\"none\"/>\n",
              "    <path d=\"M18.56 5.44l.94 2.06.94-2.06 2.06-.94-2.06-.94-.94-2.06-.94 2.06-2.06.94zm-11 1L8.5 8.5l.94-2.06 2.06-.94-2.06-.94L8.5 2.5l-.94 2.06-2.06.94zm10 10l.94 2.06.94-2.06 2.06-.94-2.06-.94-.94-2.06-.94 2.06-2.06.94z\"/><path d=\"M17.41 7.96l-1.37-1.37c-.4-.4-.92-.59-1.43-.59-.52 0-1.04.2-1.43.59L10.3 9.45l-7.72 7.72c-.78.78-.78 2.05 0 2.83L4 21.41c.39.39.9.59 1.41.59.51 0 1.02-.2 1.41-.59l7.78-7.78 2.81-2.81c.8-.78.8-2.07 0-2.86zM5.41 20L4 18.59l7.72-7.72 1.47 1.35L5.41 20z\"/>\n",
              "  </svg>\n",
              "      </button>\n",
              "      \n",
              "  <style>\n",
              "    .colab-df-container {\n",
              "      display:flex;\n",
              "      flex-wrap:wrap;\n",
              "      gap: 12px;\n",
              "    }\n",
              "\n",
              "    .colab-df-convert {\n",
              "      background-color: #E8F0FE;\n",
              "      border: none;\n",
              "      border-radius: 50%;\n",
              "      cursor: pointer;\n",
              "      display: none;\n",
              "      fill: #1967D2;\n",
              "      height: 32px;\n",
              "      padding: 0 0 0 0;\n",
              "      width: 32px;\n",
              "    }\n",
              "\n",
              "    .colab-df-convert:hover {\n",
              "      background-color: #E2EBFA;\n",
              "      box-shadow: 0px 1px 2px rgba(60, 64, 67, 0.3), 0px 1px 3px 1px rgba(60, 64, 67, 0.15);\n",
              "      fill: #174EA6;\n",
              "    }\n",
              "\n",
              "    [theme=dark] .colab-df-convert {\n",
              "      background-color: #3B4455;\n",
              "      fill: #D2E3FC;\n",
              "    }\n",
              "\n",
              "    [theme=dark] .colab-df-convert:hover {\n",
              "      background-color: #434B5C;\n",
              "      box-shadow: 0px 1px 3px 1px rgba(0, 0, 0, 0.15);\n",
              "      filter: drop-shadow(0px 1px 2px rgba(0, 0, 0, 0.3));\n",
              "      fill: #FFFFFF;\n",
              "    }\n",
              "  </style>\n",
              "\n",
              "      <script>\n",
              "        const buttonEl =\n",
              "          document.querySelector('#df-69520312-2900-40cd-bf0e-f2165f32db43 button.colab-df-convert');\n",
              "        buttonEl.style.display =\n",
              "          google.colab.kernel.accessAllowed ? 'block' : 'none';\n",
              "\n",
              "        async function convertToInteractive(key) {\n",
              "          const element = document.querySelector('#df-69520312-2900-40cd-bf0e-f2165f32db43');\n",
              "          const dataTable =\n",
              "            await google.colab.kernel.invokeFunction('convertToInteractive',\n",
              "                                                     [key], {});\n",
              "          if (!dataTable) return;\n",
              "\n",
              "          const docLinkHtml = 'Like what you see? Visit the ' +\n",
              "            '<a target=\"_blank\" href=https://colab.research.google.com/notebooks/data_table.ipynb>data table notebook</a>'\n",
              "            + ' to learn more about interactive tables.';\n",
              "          element.innerHTML = '';\n",
              "          dataTable['output_type'] = 'display_data';\n",
              "          await google.colab.output.renderOutput(dataTable, element);\n",
              "          const docLink = document.createElement('div');\n",
              "          docLink.innerHTML = docLinkHtml;\n",
              "          element.appendChild(docLink);\n",
              "        }\n",
              "      </script>\n",
              "    </div>\n",
              "  </div>\n",
              "  "
            ],
            "text/plain": [
              "      5\n",
              "0  9621"
            ]
          },
          "metadata": {},
          "execution_count": 20
        }
      ],
      "source": [
        "data.head()"
      ]
    },
    {
      "cell_type": "code",
      "execution_count": null,
      "id": "670dd246",
      "metadata": {
        "id": "670dd246"
      },
      "outputs": [],
      "source": [
        "#reading daily products from all files\n",
        "paths = {\n",
        "        './1400/1-Farvardin.xlsx' : [1400,'Farvardin'] ,\n",
        "        './1400/2-Ordibehesht.xlsx' :[1400, 'Ordibehesht'],\n",
        "        './1400/3-Khordad.xlsx' : [1400,'Khordad'] ,\n",
        "        './1400/4-TIR.xlsx' : [1400,'Tir'],\n",
        "        './1400/5-Mordad.xlsx' : [1400,'Mordad'],\n",
        "        './1400/6-Sharivar.xlsx' : [1400,'Shahrivar'] ,\n",
        "        './1400/7-Mehr.xlsx' : [1400,'Mehr'],\n",
        "        './1400/8-Aban.xlsx' : [1400,'Aban'],\n",
        "        './1400/9-Azar.xlsx' : [1400 ,'Azar'],\n",
        "        './1400/10-Dey.xlsx' : [1400,'Day'],\n",
        "        './1400/11-Bahman.xlsx' : [1400,'Bahman'],\n",
        "        './1400/12-Esfand.xlsx' : [1400,'Esfand'],   \n",
        "        }\n"
      ]
    },
    {
      "cell_type": "code",
      "execution_count": null,
      "id": "8dd3c213",
      "metadata": {
        "id": "8dd3c213",
        "outputId": "ae3932e7-a689-4898-d7d6-89ba0399d12f"
      },
      "outputs": [
        {
          "data": {
            "text/plain": [
              "1400"
            ]
          },
          "execution_count": 122,
          "metadata": {},
          "output_type": "execute_result"
        }
      ],
      "source": [
        "paths['./1400/1-Farvardin.xlsx'][0]"
      ]
    },
    {
      "cell_type": "code",
      "execution_count": null,
      "id": "b5c63d4b",
      "metadata": {
        "id": "b5c63d4b"
      },
      "outputs": [],
      "source": [
        "product =[]\n",
        "for f in paths:\n",
        "    xl = pd.ExcelFile(f)\n",
        "    sheet_names=xl.sheet_names\n",
        "    for sheet_name in sheet_names:\n",
        "        data = pd.read_excel(f, sheet_name=sheet_name , usecols = \"F\",skiprows=6,nrows=1, header = None)\n",
        "        product.append([paths[f][0],paths[f][1],sheet_name,data.iloc[0].values[0]])\n",
        "    "
      ]
    },
    {
      "cell_type": "code",
      "execution_count": null,
      "id": "38ec796e",
      "metadata": {
        "id": "38ec796e"
      },
      "outputs": [],
      "source": [
        "ddf=pd.DataFrame(product)"
      ]
    },
    {
      "cell_type": "code",
      "execution_count": null,
      "id": "ff2dbc9e",
      "metadata": {
        "id": "ff2dbc9e",
        "outputId": "997c1c76-1b95-473b-b8f5-abb87d324336"
      },
      "outputs": [
        {
          "data": {
            "text/html": [
              "<div>\n",
              "<style scoped>\n",
              "    .dataframe tbody tr th:only-of-type {\n",
              "        vertical-align: middle;\n",
              "    }\n",
              "\n",
              "    .dataframe tbody tr th {\n",
              "        vertical-align: top;\n",
              "    }\n",
              "\n",
              "    .dataframe thead th {\n",
              "        text-align: right;\n",
              "    }\n",
              "</style>\n",
              "<table border=\"1\" class=\"dataframe\">\n",
              "  <thead>\n",
              "    <tr style=\"text-align: right;\">\n",
              "      <th></th>\n",
              "      <th>0</th>\n",
              "      <th>1</th>\n",
              "      <th>2</th>\n",
              "      <th>3</th>\n",
              "    </tr>\n",
              "  </thead>\n",
              "  <tbody>\n",
              "    <tr>\n",
              "      <th>0</th>\n",
              "      <td>1400</td>\n",
              "      <td>Farvardin</td>\n",
              "      <td>1</td>\n",
              "      <td>9621</td>\n",
              "    </tr>\n",
              "    <tr>\n",
              "      <th>1</th>\n",
              "      <td>1400</td>\n",
              "      <td>Farvardin</td>\n",
              "      <td>2</td>\n",
              "      <td>11138</td>\n",
              "    </tr>\n",
              "    <tr>\n",
              "      <th>2</th>\n",
              "      <td>1400</td>\n",
              "      <td>Farvardin</td>\n",
              "      <td>3</td>\n",
              "      <td>11907</td>\n",
              "    </tr>\n",
              "    <tr>\n",
              "      <th>3</th>\n",
              "      <td>1400</td>\n",
              "      <td>Farvardin</td>\n",
              "      <td>4</td>\n",
              "      <td>11927</td>\n",
              "    </tr>\n",
              "    <tr>\n",
              "      <th>4</th>\n",
              "      <td>1400</td>\n",
              "      <td>Farvardin</td>\n",
              "      <td>5</td>\n",
              "      <td>12093</td>\n",
              "    </tr>\n",
              "    <tr>\n",
              "      <th>...</th>\n",
              "      <td>...</td>\n",
              "      <td>...</td>\n",
              "      <td>...</td>\n",
              "      <td>...</td>\n",
              "    </tr>\n",
              "    <tr>\n",
              "      <th>348</th>\n",
              "      <td>1400</td>\n",
              "      <td>Esfand</td>\n",
              "      <td>13</td>\n",
              "      <td>13151</td>\n",
              "    </tr>\n",
              "    <tr>\n",
              "      <th>349</th>\n",
              "      <td>1400</td>\n",
              "      <td>Esfand</td>\n",
              "      <td>14</td>\n",
              "      <td>13069</td>\n",
              "    </tr>\n",
              "    <tr>\n",
              "      <th>350</th>\n",
              "      <td>1400</td>\n",
              "      <td>Esfand</td>\n",
              "      <td>15</td>\n",
              "      <td>13089</td>\n",
              "    </tr>\n",
              "    <tr>\n",
              "      <th>351</th>\n",
              "      <td>1400</td>\n",
              "      <td>Esfand</td>\n",
              "      <td>16</td>\n",
              "      <td>13148</td>\n",
              "    </tr>\n",
              "    <tr>\n",
              "      <th>352</th>\n",
              "      <td>1400</td>\n",
              "      <td>Esfand</td>\n",
              "      <td>17</td>\n",
              "      <td>13094</td>\n",
              "    </tr>\n",
              "  </tbody>\n",
              "</table>\n",
              "<p>353 rows × 4 columns</p>\n",
              "</div>"
            ],
            "text/plain": [
              "        0          1   2      3\n",
              "0    1400  Farvardin   1   9621\n",
              "1    1400  Farvardin   2  11138\n",
              "2    1400  Farvardin   3  11907\n",
              "3    1400  Farvardin   4  11927\n",
              "4    1400  Farvardin   5  12093\n",
              "..    ...        ...  ..    ...\n",
              "348  1400     Esfand  13  13151\n",
              "349  1400     Esfand  14  13069\n",
              "350  1400     Esfand  15  13089\n",
              "351  1400     Esfand  16  13148\n",
              "352  1400     Esfand  17  13094\n",
              "\n",
              "[353 rows x 4 columns]"
            ]
          },
          "execution_count": 125,
          "metadata": {},
          "output_type": "execute_result"
        }
      ],
      "source": [
        "ddf"
      ]
    },
    {
      "cell_type": "code",
      "execution_count": null,
      "id": "e7aaa00c",
      "metadata": {
        "id": "e7aaa00c"
      },
      "outputs": [],
      "source": [
        ""
      ]
    }
  ],
  "metadata": {
    "kernelspec": {
      "display_name": "Python 3 (ipykernel)",
      "language": "python",
      "name": "python3"
    },
    "language_info": {
      "codemirror_mode": {
        "name": "ipython",
        "version": 3
      },
      "file_extension": ".py",
      "mimetype": "text/x-python",
      "name": "python",
      "nbconvert_exporter": "python",
      "pygments_lexer": "ipython3",
      "version": "3.9.7"
    },
    "colab": {
      "name": "find and read cells.ipynb",
      "provenance": [],
      "include_colab_link": true
    }
  },
  "nbformat": 4,
  "nbformat_minor": 5
}
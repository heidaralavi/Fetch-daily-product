{
  "cells": [
    {
      "cell_type": "markdown",
      "metadata": {
        "id": "view-in-github",
        "colab_type": "text"
      },
      "source": [
        "<a href=\"https://colab.research.google.com/github/heidaralavi/Fetch-daily-product/blob/main/Data%20Gathering.ipynb\" target=\"_parent\"><img src=\"https://colab.research.google.com/assets/colab-badge.svg\" alt=\"Open In Colab\"/></a>"
      ]
    },
    {
      "cell_type": "code",
      "execution_count": 1,
      "id": "9cf4bd46",
      "metadata": {
        "id": "9cf4bd46",
        "outputId": "2961814d-8fff-48c4-a8fc-de6cf7a60d7d",
        "colab": {
          "base_uri": "https://localhost:8080/"
        }
      },
      "outputs": [
        {
          "output_type": "stream",
          "name": "stdout",
          "text": [
            "Cloning into 'Fetch-daily-product'...\n",
            "remote: Enumerating objects: 95, done.\u001b[K\n",
            "remote: Counting objects: 100% (95/95), done.\u001b[K\n",
            "remote: Compressing objects: 100% (82/82), done.\u001b[K\n",
            "remote: Total 95 (delta 27), reused 72 (delta 11), pack-reused 0\u001b[K\n",
            "Unpacking objects: 100% (95/95), done.\n"
          ]
        }
      ],
      "source": [
        "!git clone https://github.com/heidaralavi/Fetch-daily-product.git"
      ]
    },
    {
      "cell_type": "code",
      "source": [
        "import pandas as pd\n",
        "import numpy as np"
      ],
      "metadata": {
        "id": "7b4R9UPPEQSQ"
      },
      "id": "7b4R9UPPEQSQ",
      "execution_count": 2,
      "outputs": []
    },
    {
      "cell_type": "code",
      "source": [
        "import os\n",
        "from typing_extensions import Concatenate\n",
        "from os import walk\n",
        "mypaths= ['/content/Fetch-daily-product/1400','/content/Fetch-daily-product/1399','/content/Fetch-daily-product/1398']\n",
        "myfiles=[]\n",
        "for mypath in mypaths:\n",
        "  for root, dirs, files in os.walk(mypath):\n",
        "    for f in files:\n",
        "      myfiles.append(root+'/'+f)\n",
        "      #break #only one loop needed\n",
        "myfiles,len(myfiles)"
      ],
      "metadata": {
        "id": "2_dxK1YhEk_r",
        "outputId": "c1b6caec-2675-4ccf-e853-fe2e4645f0e1",
        "colab": {
          "base_uri": "https://localhost:8080/"
        }
      },
      "id": "2_dxK1YhEk_r",
      "execution_count": 3,
      "outputs": [
        {
          "output_type": "execute_result",
          "data": {
            "text/plain": [
              "(['/content/Fetch-daily-product/1400/5-Mordad.xlsx',\n",
              "  '/content/Fetch-daily-product/1400/12-Esfand.xlsx',\n",
              "  '/content/Fetch-daily-product/1400/3-Khordad.xlsx',\n",
              "  '/content/Fetch-daily-product/1400/7-Mehr.xlsx',\n",
              "  '/content/Fetch-daily-product/1400/1-Farvardin.xlsx',\n",
              "  '/content/Fetch-daily-product/1400/11-Bahman.xlsx',\n",
              "  '/content/Fetch-daily-product/1400/8-Aban.xlsx',\n",
              "  '/content/Fetch-daily-product/1400/6-Shahrivar.xlsx',\n",
              "  '/content/Fetch-daily-product/1400/10-Dey.xlsx',\n",
              "  '/content/Fetch-daily-product/1400/4-Tir.xlsx',\n",
              "  '/content/Fetch-daily-product/1400/2-Ordibehesht.xlsx',\n",
              "  '/content/Fetch-daily-product/1400/9-Azar.xlsx',\n",
              "  '/content/Fetch-daily-product/1399/5-Mordad.xlsx',\n",
              "  '/content/Fetch-daily-product/1399/12-Esfand.xlsx',\n",
              "  '/content/Fetch-daily-product/1399/3-Khordad.xlsx',\n",
              "  '/content/Fetch-daily-product/1399/7-Mehr.xlsx',\n",
              "  '/content/Fetch-daily-product/1399/1-Farvardin.xlsx',\n",
              "  '/content/Fetch-daily-product/1399/11-Bahman.xlsx',\n",
              "  '/content/Fetch-daily-product/1399/8-Aban.xlsx',\n",
              "  '/content/Fetch-daily-product/1399/6-Shahrivar.xlsx',\n",
              "  '/content/Fetch-daily-product/1399/10-Dey.xlsx',\n",
              "  '/content/Fetch-daily-product/1399/4-Tir.xlsx',\n",
              "  '/content/Fetch-daily-product/1399/2-Ordibehesht.xlsx',\n",
              "  '/content/Fetch-daily-product/1399/9-Azar.xlsx',\n",
              "  '/content/Fetch-daily-product/1398/5-Mordad.xlsx',\n",
              "  '/content/Fetch-daily-product/1398/12-Esfand.xlsx',\n",
              "  '/content/Fetch-daily-product/1398/3-Khordad.xlsx',\n",
              "  '/content/Fetch-daily-product/1398/7-Mehr.xlsx',\n",
              "  '/content/Fetch-daily-product/1398/1-Farvardin.xlsx',\n",
              "  '/content/Fetch-daily-product/1398/11-Bahman.xlsx',\n",
              "  '/content/Fetch-daily-product/1398/8-Aban.xlsx',\n",
              "  '/content/Fetch-daily-product/1398/6-Shahrivar.xlsx',\n",
              "  '/content/Fetch-daily-product/1398/10-Dey.xlsx',\n",
              "  '/content/Fetch-daily-product/1398/4-Tir.xlsx',\n",
              "  '/content/Fetch-daily-product/1398/2-Ordibehesht.xlsx',\n",
              "  '/content/Fetch-daily-product/1398/9-Azar.xlsx'],\n",
              " 36)"
            ]
          },
          "metadata": {},
          "execution_count": 3
        }
      ]
    },
    {
      "cell_type": "code",
      "source": [
        "def trim_all_columns(df):\n",
        "    \"\"\"\n",
        "    Trim whitespace from ends of each value across all series in dataframe\n",
        "    \"\"\"\n",
        "    trim_strings = lambda x: x.strip() if isinstance(x, str) else x\n",
        "    return df.applymap(trim_strings)"
      ],
      "metadata": {
        "id": "vqDX-TIziw33"
      },
      "id": "vqDX-TIziw33",
      "execution_count": 4,
      "outputs": []
    },
    {
      "cell_type": "code",
      "source": [
        "product =[]\n",
        "for f in myfiles:\n",
        "    xl = pd.ExcelFile(f)\n",
        "    sheet_names=xl.sheet_names\n",
        "    for sheet_name in sheet_names:\n",
        "        df= pd.read_excel(f, sheet_name=sheet_name , header = None)\n",
        "        df = trim_all_columns(df)\n",
        "        date_row,date_col=np.where(df.values == 'تاریخ گزارش:')\n",
        "        row,col = np.where(df.values == 'روز')\n",
        "        tolid_row,tolid_col = np.where(df.values == 'میزان تولید واقعي')\n",
        "        filter_row,filter_col = np.where(df.values == 'ميزان توليد فيلتر ديسكها')\n",
        "        #print([df.values[date_row,date_col+4][0],df.values[date_row,date_col+2][0],df.values[tolid_row,col][0],df.values[filter_row,col][0]])\n",
        "        product.append([df.values[date_row,date_col+4][0],df.values[date_row,date_col+2][0],df.values[tolid_row,col][0],df.values[filter_row,col][0]])\n",
        "        "
      ],
      "metadata": {
        "id": "Ra9AzJcGFS3D"
      },
      "id": "Ra9AzJcGFS3D",
      "execution_count": 5,
      "outputs": []
    },
    {
      "cell_type": "code",
      "source": [
        "ddf=pd.DataFrame(product,columns=['date','jdate','total_product','filter_cake'])"
      ],
      "metadata": {
        "id": "EghSOwDEPf8Z"
      },
      "id": "EghSOwDEPf8Z",
      "execution_count": 6,
      "outputs": []
    },
    {
      "cell_type": "code",
      "source": [
        "ddf = ddf.sort_values(by=\"date\")\n",
        "ddf.reset_index(inplace=True,drop=True)"
      ],
      "metadata": {
        "id": "vyQJ5beUalhc"
      },
      "id": "vyQJ5beUalhc",
      "execution_count": 10,
      "outputs": []
    },
    {
      "cell_type": "code",
      "source": [
        "ddf"
      ],
      "metadata": {
        "id": "cRkjNJoyb8K9",
        "outputId": "94090999-546d-4c42-e785-9c76ef319135",
        "colab": {
          "base_uri": "https://localhost:8080/",
          "height": 424
        }
      },
      "id": "cRkjNJoyb8K9",
      "execution_count": 11,
      "outputs": [
        {
          "output_type": "execute_result",
          "data": {
            "text/html": [
              "\n",
              "  <div id=\"df-7260c3ed-4d4f-49e5-b1b2-4aa6d0c736a4\">\n",
              "    <div class=\"colab-df-container\">\n",
              "      <div>\n",
              "<style scoped>\n",
              "    .dataframe tbody tr th:only-of-type {\n",
              "        vertical-align: middle;\n",
              "    }\n",
              "\n",
              "    .dataframe tbody tr th {\n",
              "        vertical-align: top;\n",
              "    }\n",
              "\n",
              "    .dataframe thead th {\n",
              "        text-align: right;\n",
              "    }\n",
              "</style>\n",
              "<table border=\"1\" class=\"dataframe\">\n",
              "  <thead>\n",
              "    <tr style=\"text-align: right;\">\n",
              "      <th></th>\n",
              "      <th>date</th>\n",
              "      <th>jdate</th>\n",
              "      <th>total_product</th>\n",
              "      <th>filter_cake</th>\n",
              "    </tr>\n",
              "  </thead>\n",
              "  <tbody>\n",
              "    <tr>\n",
              "      <th>0</th>\n",
              "      <td>2019-03-21</td>\n",
              "      <td>1398/01/01</td>\n",
              "      <td>11131</td>\n",
              "      <td>860.78</td>\n",
              "    </tr>\n",
              "    <tr>\n",
              "      <th>1</th>\n",
              "      <td>2019-03-22</td>\n",
              "      <td>1398/01/02</td>\n",
              "      <td>11514</td>\n",
              "      <td>789.73</td>\n",
              "    </tr>\n",
              "    <tr>\n",
              "      <th>2</th>\n",
              "      <td>2019-03-23</td>\n",
              "      <td>1398/01/03</td>\n",
              "      <td>11849</td>\n",
              "      <td>854.57</td>\n",
              "    </tr>\n",
              "    <tr>\n",
              "      <th>3</th>\n",
              "      <td>2019-03-24</td>\n",
              "      <td>1398/01/04</td>\n",
              "      <td>11722</td>\n",
              "      <td>862.67</td>\n",
              "    </tr>\n",
              "    <tr>\n",
              "      <th>4</th>\n",
              "      <td>2019-03-25</td>\n",
              "      <td>1398/01/05</td>\n",
              "      <td>9127</td>\n",
              "      <td>585.07</td>\n",
              "    </tr>\n",
              "    <tr>\n",
              "      <th>...</th>\n",
              "      <td>...</td>\n",
              "      <td>...</td>\n",
              "      <td>...</td>\n",
              "      <td>...</td>\n",
              "    </tr>\n",
              "    <tr>\n",
              "      <th>1079</th>\n",
              "      <td>2022-03-04</td>\n",
              "      <td>1400/12/13</td>\n",
              "      <td>13151</td>\n",
              "      <td>819.96</td>\n",
              "    </tr>\n",
              "    <tr>\n",
              "      <th>1080</th>\n",
              "      <td>2022-03-05</td>\n",
              "      <td>1400/12/14</td>\n",
              "      <td>13069</td>\n",
              "      <td>755.44</td>\n",
              "    </tr>\n",
              "    <tr>\n",
              "      <th>1081</th>\n",
              "      <td>2022-03-06</td>\n",
              "      <td>1400/12/15</td>\n",
              "      <td>13089</td>\n",
              "      <td>265.12</td>\n",
              "    </tr>\n",
              "    <tr>\n",
              "      <th>1082</th>\n",
              "      <td>2022-03-07</td>\n",
              "      <td>1400/12/16</td>\n",
              "      <td>13148</td>\n",
              "      <td>480.42</td>\n",
              "    </tr>\n",
              "    <tr>\n",
              "      <th>1083</th>\n",
              "      <td>2022-03-08</td>\n",
              "      <td>1400/12/17</td>\n",
              "      <td>13094</td>\n",
              "      <td>981.95</td>\n",
              "    </tr>\n",
              "  </tbody>\n",
              "</table>\n",
              "<p>1084 rows × 4 columns</p>\n",
              "</div>\n",
              "      <button class=\"colab-df-convert\" onclick=\"convertToInteractive('df-7260c3ed-4d4f-49e5-b1b2-4aa6d0c736a4')\"\n",
              "              title=\"Convert this dataframe to an interactive table.\"\n",
              "              style=\"display:none;\">\n",
              "        \n",
              "  <svg xmlns=\"http://www.w3.org/2000/svg\" height=\"24px\"viewBox=\"0 0 24 24\"\n",
              "       width=\"24px\">\n",
              "    <path d=\"M0 0h24v24H0V0z\" fill=\"none\"/>\n",
              "    <path d=\"M18.56 5.44l.94 2.06.94-2.06 2.06-.94-2.06-.94-.94-2.06-.94 2.06-2.06.94zm-11 1L8.5 8.5l.94-2.06 2.06-.94-2.06-.94L8.5 2.5l-.94 2.06-2.06.94zm10 10l.94 2.06.94-2.06 2.06-.94-2.06-.94-.94-2.06-.94 2.06-2.06.94z\"/><path d=\"M17.41 7.96l-1.37-1.37c-.4-.4-.92-.59-1.43-.59-.52 0-1.04.2-1.43.59L10.3 9.45l-7.72 7.72c-.78.78-.78 2.05 0 2.83L4 21.41c.39.39.9.59 1.41.59.51 0 1.02-.2 1.41-.59l7.78-7.78 2.81-2.81c.8-.78.8-2.07 0-2.86zM5.41 20L4 18.59l7.72-7.72 1.47 1.35L5.41 20z\"/>\n",
              "  </svg>\n",
              "      </button>\n",
              "      \n",
              "  <style>\n",
              "    .colab-df-container {\n",
              "      display:flex;\n",
              "      flex-wrap:wrap;\n",
              "      gap: 12px;\n",
              "    }\n",
              "\n",
              "    .colab-df-convert {\n",
              "      background-color: #E8F0FE;\n",
              "      border: none;\n",
              "      border-radius: 50%;\n",
              "      cursor: pointer;\n",
              "      display: none;\n",
              "      fill: #1967D2;\n",
              "      height: 32px;\n",
              "      padding: 0 0 0 0;\n",
              "      width: 32px;\n",
              "    }\n",
              "\n",
              "    .colab-df-convert:hover {\n",
              "      background-color: #E2EBFA;\n",
              "      box-shadow: 0px 1px 2px rgba(60, 64, 67, 0.3), 0px 1px 3px 1px rgba(60, 64, 67, 0.15);\n",
              "      fill: #174EA6;\n",
              "    }\n",
              "\n",
              "    [theme=dark] .colab-df-convert {\n",
              "      background-color: #3B4455;\n",
              "      fill: #D2E3FC;\n",
              "    }\n",
              "\n",
              "    [theme=dark] .colab-df-convert:hover {\n",
              "      background-color: #434B5C;\n",
              "      box-shadow: 0px 1px 3px 1px rgba(0, 0, 0, 0.15);\n",
              "      filter: drop-shadow(0px 1px 2px rgba(0, 0, 0, 0.3));\n",
              "      fill: #FFFFFF;\n",
              "    }\n",
              "  </style>\n",
              "\n",
              "      <script>\n",
              "        const buttonEl =\n",
              "          document.querySelector('#df-7260c3ed-4d4f-49e5-b1b2-4aa6d0c736a4 button.colab-df-convert');\n",
              "        buttonEl.style.display =\n",
              "          google.colab.kernel.accessAllowed ? 'block' : 'none';\n",
              "\n",
              "        async function convertToInteractive(key) {\n",
              "          const element = document.querySelector('#df-7260c3ed-4d4f-49e5-b1b2-4aa6d0c736a4');\n",
              "          const dataTable =\n",
              "            await google.colab.kernel.invokeFunction('convertToInteractive',\n",
              "                                                     [key], {});\n",
              "          if (!dataTable) return;\n",
              "\n",
              "          const docLinkHtml = 'Like what you see? Visit the ' +\n",
              "            '<a target=\"_blank\" href=https://colab.research.google.com/notebooks/data_table.ipynb>data table notebook</a>'\n",
              "            + ' to learn more about interactive tables.';\n",
              "          element.innerHTML = '';\n",
              "          dataTable['output_type'] = 'display_data';\n",
              "          await google.colab.output.renderOutput(dataTable, element);\n",
              "          const docLink = document.createElement('div');\n",
              "          docLink.innerHTML = docLinkHtml;\n",
              "          element.appendChild(docLink);\n",
              "        }\n",
              "      </script>\n",
              "    </div>\n",
              "  </div>\n",
              "  "
            ],
            "text/plain": [
              "           date       jdate  total_product  filter_cake\n",
              "0    2019-03-21  1398/01/01          11131       860.78\n",
              "1    2019-03-22  1398/01/02          11514       789.73\n",
              "2    2019-03-23  1398/01/03          11849       854.57\n",
              "3    2019-03-24  1398/01/04          11722       862.67\n",
              "4    2019-03-25  1398/01/05           9127       585.07\n",
              "...         ...         ...            ...          ...\n",
              "1079 2022-03-04  1400/12/13          13151       819.96\n",
              "1080 2022-03-05  1400/12/14          13069       755.44\n",
              "1081 2022-03-06  1400/12/15          13089       265.12\n",
              "1082 2022-03-07  1400/12/16          13148       480.42\n",
              "1083 2022-03-08  1400/12/17          13094       981.95\n",
              "\n",
              "[1084 rows x 4 columns]"
            ]
          },
          "metadata": {},
          "execution_count": 11
        }
      ]
    },
    {
      "cell_type": "code",
      "source": [
        "ddf.info()"
      ],
      "metadata": {
        "id": "ZCFDZe5jb-PB",
        "outputId": "45898060-5433-416f-8f4a-1198a7097e5b",
        "colab": {
          "base_uri": "https://localhost:8080/"
        }
      },
      "id": "ZCFDZe5jb-PB",
      "execution_count": 13,
      "outputs": [
        {
          "output_type": "stream",
          "name": "stdout",
          "text": [
            "<class 'pandas.core.frame.DataFrame'>\n",
            "RangeIndex: 1084 entries, 0 to 1083\n",
            "Data columns (total 4 columns):\n",
            " #   Column         Non-Null Count  Dtype         \n",
            "---  ------         --------------  -----         \n",
            " 0   date           1084 non-null   datetime64[ns]\n",
            " 1   jdate          1084 non-null   object        \n",
            " 2   total_product  1084 non-null   int64         \n",
            " 3   filter_cake    1084 non-null   float64       \n",
            "dtypes: datetime64[ns](1), float64(1), int64(1), object(1)\n",
            "memory usage: 34.0+ KB\n"
          ]
        }
      ]
    },
    {
      "cell_type": "code",
      "source": [
        "ddf[ddf.values == '1400/07/26']"
      ],
      "metadata": {
        "id": "Fc0qC9HHu0af",
        "outputId": "f24e0695-8800-4b07-84cb-0dbc62149471",
        "colab": {
          "base_uri": "https://localhost:8080/",
          "height": 81
        }
      },
      "id": "Fc0qC9HHu0af",
      "execution_count": 16,
      "outputs": [
        {
          "output_type": "execute_result",
          "data": {
            "text/html": [
              "\n",
              "  <div id=\"df-021c49ee-8a29-4f51-a35e-4f430e32908d\">\n",
              "    <div class=\"colab-df-container\">\n",
              "      <div>\n",
              "<style scoped>\n",
              "    .dataframe tbody tr th:only-of-type {\n",
              "        vertical-align: middle;\n",
              "    }\n",
              "\n",
              "    .dataframe tbody tr th {\n",
              "        vertical-align: top;\n",
              "    }\n",
              "\n",
              "    .dataframe thead th {\n",
              "        text-align: right;\n",
              "    }\n",
              "</style>\n",
              "<table border=\"1\" class=\"dataframe\">\n",
              "  <thead>\n",
              "    <tr style=\"text-align: right;\">\n",
              "      <th></th>\n",
              "      <th>date</th>\n",
              "      <th>jdate</th>\n",
              "      <th>total_product</th>\n",
              "      <th>filter_cake</th>\n",
              "    </tr>\n",
              "  </thead>\n",
              "  <tbody>\n",
              "    <tr>\n",
              "      <th>942</th>\n",
              "      <td>2021-10-18</td>\n",
              "      <td>1400/07/26</td>\n",
              "      <td>13003</td>\n",
              "      <td>959.42</td>\n",
              "    </tr>\n",
              "  </tbody>\n",
              "</table>\n",
              "</div>\n",
              "      <button class=\"colab-df-convert\" onclick=\"convertToInteractive('df-021c49ee-8a29-4f51-a35e-4f430e32908d')\"\n",
              "              title=\"Convert this dataframe to an interactive table.\"\n",
              "              style=\"display:none;\">\n",
              "        \n",
              "  <svg xmlns=\"http://www.w3.org/2000/svg\" height=\"24px\"viewBox=\"0 0 24 24\"\n",
              "       width=\"24px\">\n",
              "    <path d=\"M0 0h24v24H0V0z\" fill=\"none\"/>\n",
              "    <path d=\"M18.56 5.44l.94 2.06.94-2.06 2.06-.94-2.06-.94-.94-2.06-.94 2.06-2.06.94zm-11 1L8.5 8.5l.94-2.06 2.06-.94-2.06-.94L8.5 2.5l-.94 2.06-2.06.94zm10 10l.94 2.06.94-2.06 2.06-.94-2.06-.94-.94-2.06-.94 2.06-2.06.94z\"/><path d=\"M17.41 7.96l-1.37-1.37c-.4-.4-.92-.59-1.43-.59-.52 0-1.04.2-1.43.59L10.3 9.45l-7.72 7.72c-.78.78-.78 2.05 0 2.83L4 21.41c.39.39.9.59 1.41.59.51 0 1.02-.2 1.41-.59l7.78-7.78 2.81-2.81c.8-.78.8-2.07 0-2.86zM5.41 20L4 18.59l7.72-7.72 1.47 1.35L5.41 20z\"/>\n",
              "  </svg>\n",
              "      </button>\n",
              "      \n",
              "  <style>\n",
              "    .colab-df-container {\n",
              "      display:flex;\n",
              "      flex-wrap:wrap;\n",
              "      gap: 12px;\n",
              "    }\n",
              "\n",
              "    .colab-df-convert {\n",
              "      background-color: #E8F0FE;\n",
              "      border: none;\n",
              "      border-radius: 50%;\n",
              "      cursor: pointer;\n",
              "      display: none;\n",
              "      fill: #1967D2;\n",
              "      height: 32px;\n",
              "      padding: 0 0 0 0;\n",
              "      width: 32px;\n",
              "    }\n",
              "\n",
              "    .colab-df-convert:hover {\n",
              "      background-color: #E2EBFA;\n",
              "      box-shadow: 0px 1px 2px rgba(60, 64, 67, 0.3), 0px 1px 3px 1px rgba(60, 64, 67, 0.15);\n",
              "      fill: #174EA6;\n",
              "    }\n",
              "\n",
              "    [theme=dark] .colab-df-convert {\n",
              "      background-color: #3B4455;\n",
              "      fill: #D2E3FC;\n",
              "    }\n",
              "\n",
              "    [theme=dark] .colab-df-convert:hover {\n",
              "      background-color: #434B5C;\n",
              "      box-shadow: 0px 1px 3px 1px rgba(0, 0, 0, 0.15);\n",
              "      filter: drop-shadow(0px 1px 2px rgba(0, 0, 0, 0.3));\n",
              "      fill: #FFFFFF;\n",
              "    }\n",
              "  </style>\n",
              "\n",
              "      <script>\n",
              "        const buttonEl =\n",
              "          document.querySelector('#df-021c49ee-8a29-4f51-a35e-4f430e32908d button.colab-df-convert');\n",
              "        buttonEl.style.display =\n",
              "          google.colab.kernel.accessAllowed ? 'block' : 'none';\n",
              "\n",
              "        async function convertToInteractive(key) {\n",
              "          const element = document.querySelector('#df-021c49ee-8a29-4f51-a35e-4f430e32908d');\n",
              "          const dataTable =\n",
              "            await google.colab.kernel.invokeFunction('convertToInteractive',\n",
              "                                                     [key], {});\n",
              "          if (!dataTable) return;\n",
              "\n",
              "          const docLinkHtml = 'Like what you see? Visit the ' +\n",
              "            '<a target=\"_blank\" href=https://colab.research.google.com/notebooks/data_table.ipynb>data table notebook</a>'\n",
              "            + ' to learn more about interactive tables.';\n",
              "          element.innerHTML = '';\n",
              "          dataTable['output_type'] = 'display_data';\n",
              "          await google.colab.output.renderOutput(dataTable, element);\n",
              "          const docLink = document.createElement('div');\n",
              "          docLink.innerHTML = docLinkHtml;\n",
              "          element.appendChild(docLink);\n",
              "        }\n",
              "      </script>\n",
              "    </div>\n",
              "  </div>\n",
              "  "
            ],
            "text/plain": [
              "          date       jdate  total_product  filter_cake\n",
              "942 2021-10-18  1400/07/26          13003       959.42"
            ]
          },
          "metadata": {},
          "execution_count": 16
        }
      ]
    },
    {
      "cell_type": "code",
      "source": [
        ""
      ],
      "metadata": {
        "id": "lkb5PkQhykSC"
      },
      "id": "lkb5PkQhykSC",
      "execution_count": null,
      "outputs": []
    }
  ],
  "metadata": {
    "kernelspec": {
      "display_name": "Python 3 (ipykernel)",
      "language": "python",
      "name": "python3"
    },
    "language_info": {
      "codemirror_mode": {
        "name": "ipython",
        "version": 3
      },
      "file_extension": ".py",
      "mimetype": "text/x-python",
      "name": "python",
      "nbconvert_exporter": "python",
      "pygments_lexer": "ipython3",
      "version": "3.9.7"
    },
    "colab": {
      "name": "Data Gathering.ipynb",
      "provenance": [],
      "include_colab_link": true
    }
  },
  "nbformat": 4,
  "nbformat_minor": 5
}